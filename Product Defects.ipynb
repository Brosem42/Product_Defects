{
 "cells": [
  {
   "cell_type": "markdown",
   "id": "4b2cd154",
   "metadata": {},
   "source": [
    "# Product Defects"
   ]
  },
  {
   "cell_type": "markdown",
   "id": "9fb46377",
   "metadata": {},
   "source": [
    "You are in charge of monitoring the number of products from a specific factory. You've been told that the number of defects on a given day follows the Poisson distribution with the rate parameter (lambda) equal to 7. You're new here, so you want to get a feel for what it means to follow the Poisson(7) distribution. You remember that the Poisson distribution is special because the rate parameter represents the expected value of the distribution, so in this case, the expected value of the Poisson(7) distribution is 7 defects per day.\n",
    "\n",
    "You will investigate certain attributes of the Poisson(7) distribution to get an intuition for how many defective objects you should expect to see in a given amount of time. You will also practice and apply what you know about the Poisson distribution on a practice data set that you will simulate yourself."
   ]
  },
  {
   "cell_type": "markdown",
   "id": "24b7687a",
   "metadata": {},
   "source": [
    "## Distribution in Theory"
   ]
  },
  {
   "cell_type": "markdown",
   "id": "6507ea83",
   "metadata": {},
   "source": [
    "1. Create a variable called `lam` that represents the rate parameter of our distribution."
   ]
  },
  {
   "cell_type": "code",
   "execution_count": 630,
   "id": "5004fed3",
   "metadata": {},
   "outputs": [],
   "source": [
    "import scipy.stats as stats\n",
    "\n",
    "import numpy as np\n",
    "\n",
    "lam = 7\n"
   ]
  },
  {
   "cell_type": "markdown",
   "id": "74c409d6",
   "metadata": {},
   "source": [
    "2. You know that the rate parameter of a Poisson distribution is equal to the expected value. So in our factory, the rate parameter would equal the expected number of defects on a given day. You are curious about how often we might observe the exact expected number of defects.\n",
    "\n",
    "   Calculate and print the probability of observing exactly `lam` defects on a given day."
   ]
  },
  {
   "cell_type": "code",
   "execution_count": 631,
   "id": "9460b5b8",
   "metadata": {},
   "outputs": [
    {
     "name": "stdout",
     "output_type": "stream",
     "text": [
      "0.14900277967433773\n"
     ]
    }
   ],
   "source": [
    "## Task 2: calculate the probability of lam defects on a given day \n",
    "## exact number = use stats.poisson.pmf\n",
    "prob_lam = stats.poisson.pmf(lam, lam)\n",
    "print(prob_lam)"
   ]
  },
  {
   "cell_type": "markdown",
   "id": "2f2e2d1f",
   "metadata": {},
   "source": [
    "3. Our boss said that having 4 or fewer defects on a given day is an exceptionally good day. You are curious about how often that might happen.\n",
    "\n",
    "   Calculate and print the probability of having one of those days."
   ]
  },
  {
   "cell_type": "code",
   "execution_count": 632,
   "id": "f4ebb772",
   "metadata": {},
   "outputs": [
    {
     "name": "stdout",
     "output_type": "stream",
     "text": [
      "0.17299160788207146\n"
     ]
    }
   ],
   "source": [
    "## Task 3:\n",
    "prob_4 = stats.poisson.cdf(4, lam)\n",
    "print(prob_4)"
   ]
  },
  {
   "cell_type": "markdown",
   "id": "53d28c8f",
   "metadata": {},
   "source": [
    "4. On the other hand, our boss said that having more than 9 defects on a given day is considered a bad day.\n",
    "\n",
    "   Calculate and print the probability of having one of these bad days."
   ]
  },
  {
   "cell_type": "code",
   "execution_count": 633,
   "id": "a2e52583",
   "metadata": {},
   "outputs": [
    {
     "name": "stdout",
     "output_type": "stream",
     "text": [
      "0.16950406276132668\n"
     ]
    }
   ],
   "source": [
    "## Task 4: calculate more than 9 defects...so we need to subtract the probability of having fewer than 9 defects\n",
    "prob_9 = 1 - stats.poisson.cdf(9, lam)\n",
    "print(prob_9)\n"
   ]
  },
  {
   "cell_type": "markdown",
   "id": "51b70b96",
   "metadata": {},
   "source": [
    "## Distribution in Practice"
   ]
  },
  {
   "cell_type": "markdown",
   "id": "64c0a33e",
   "metadata": {},
   "source": [
    "5. You've familiarized yourself a little bit about how the Poisson distribution works in theory by calculating different probabilities. But let's look at what this might look like in practice.\n",
    "\n",
    "   Create a variable called `year_defects` that has 365 random values from the Poisson distribution."
   ]
  },
  {
   "cell_type": "code",
   "execution_count": 634,
   "id": "ca2113e6",
   "metadata": {},
   "outputs": [
    {
     "name": "stdout",
     "output_type": "stream",
     "text": [
      "[ 7 12  5  9  4  5  6  8  7  8  3 10  5  8  6  9  6  5  4 10  8  5  3 10\n",
      "  4  9  3  8  9  5  8  6  8  6  6  7 10  7  7 10 11 13  6  2  9 10 11  1\n",
      "  5  8  7  8  6  8 10 11  7  9  3  9  7  8  6 12  4 10  5  9 11  8  9  6\n",
      "  5  5  7  9  3  4  6  8 12  6  8  6  6 12 10  5  6  5 10  6  7  5  7  9\n",
      " 13  7  7  4  6 13 11  5 11  9  7 10  7 10 10  8  4  9 11  7 13  5  4  5\n",
      "  4  4  3  8  5  6 13  8 12  5 13  3 11  6 13  6  6  4  9  8 11  6 11  2\n",
      "  8 10  9  6  5  3  4  8  3  4  9 10  5  5 11  4  5 10  8  8  5 13 11  5\n",
      "  9  9  7  3  5  5 11  4  6  8  6  8 11  6 10  9  6 12  4  6  5  7  7  9\n",
      " 10  9  4  6 10 13  7  7 14 10  9  4  5  9  6  7  5  3 10  9 10  3  4  3\n",
      "  6  4  5 12  8  9  4  6  4  8  5  7  3  8  9  9  4  5  5 10  8 11  5  6\n",
      "  9  7 12 10  6  6  4  6  7  3  4 12  9 10  7 10  7 12  8 10 11  7  8  6\n",
      "  9  7 10  7 11  3  9  6  5  8  5  7  8  8  8  9  4  6  6  4  6  6  8 11\n",
      "  4  7  7  4  7  9  6  5  5  4  6  7  6  4  5  8  7  6 13  7  7 10  8  8\n",
      "  4 11 10 10  7  6 11  9  5  8  5  6  6  7  6 12  9  8  8  5  5  4  7  6\n",
      "  4  8 10  6  5 11  7  3  8  6  5  5  1 12  4  6 10  7  8  8 11  2  8  7\n",
      "  8  7  5  8  4]\n"
     ]
    }
   ],
   "source": [
    "## Task 5: \n",
    "year_defects = stats.poisson.rvs(lam, size = 365)\n",
    "#print random sample of 365 days\n",
    "print(year_defects) "
   ]
  },
  {
   "cell_type": "markdown",
   "id": "d7f3dce8",
   "metadata": {},
   "source": [
    "6. Let's take a look at our new dataset. Print the first 20 values in this dataset."
   ]
  },
  {
   "cell_type": "code",
   "execution_count": 635,
   "id": "b1d5f0c1",
   "metadata": {},
   "outputs": [
    {
     "name": "stdout",
     "output_type": "stream",
     "text": [
      "[ 7 12  5  9  4  5  6  8  7  8  3 10  5  8  6  9  6  5  4 10]\n"
     ]
    }
   ],
   "source": [
    "## Task 6:\n",
    "#use the dataset you created to print the first 20 values in the dataset\n",
    "print(year_defects[0:20]) # type: ignore"
   ]
  },
  {
   "cell_type": "markdown",
   "id": "eedc358b",
   "metadata": {},
   "source": [
    "7. If we expect 7 defects on a given day, what is the total number of defects we would expect over 365 days?\n",
    "\n",
    "   Calculate and print this value to the output terminal."
   ]
  },
  {
   "cell_type": "code",
   "execution_count": 636,
   "id": "75d2f0e0",
   "metadata": {},
   "outputs": [
    {
     "name": "stdout",
     "output_type": "stream",
     "text": [
      "2555\n"
     ]
    }
   ],
   "source": [
    "## Task 7:\n",
    "#expect 7 defects on a given day, find total for the year\n",
    "print(lam * 365)"
   ]
  },
  {
   "cell_type": "markdown",
   "id": "ad96cdf6",
   "metadata": {},
   "source": [
    "8. Calculate and print the total sum of the dataset `year_defects`. How does this compare to the total number of defects we expected over 365 days?"
   ]
  },
  {
   "cell_type": "code",
   "execution_count": 637,
   "id": "da304786",
   "metadata": {},
   "outputs": [
    {
     "name": "stdout",
     "output_type": "stream",
     "text": [
      "2636\n"
     ]
    }
   ],
   "source": [
    "## Task 8:\n",
    "print(np.sum(year_defects))"
   ]
  },
  {
   "cell_type": "markdown",
   "id": "aefa9e09",
   "metadata": {},
   "source": [
    "9. Calculate and print the average number of defects per day from our simulated dataset.\n",
    "\n",
    "   How does this compare to the expected average number of defects each day that we know from the given rate parameter of the Poisson distribution?"
   ]
  },
  {
   "cell_type": "code",
   "execution_count": 638,
   "id": "febc26d4",
   "metadata": {},
   "outputs": [
    {
     "name": "stdout",
     "output_type": "stream",
     "text": [
      "6.8273972602739725\n"
     ]
    }
   ],
   "source": [
    "## Task 9:\n",
    "rand_vars = stats.poisson.rvs(lam, size = 365)\n",
    "print(rand_vars.mean()) # type: ignore"
   ]
  },
  {
   "cell_type": "markdown",
   "id": "31308a48",
   "metadata": {},
   "source": [
    "10. You're worried about what the highest amount of defects in a single day might be because that would be a hectic day.\n",
    "\n",
    "    Print the maximum value of `year_defects`."
   ]
  },
  {
   "cell_type": "code",
   "execution_count": 639,
   "id": "18feb435",
   "metadata": {},
   "outputs": [
    {
     "name": "stdout",
     "output_type": "stream",
     "text": [
      "14\n"
     ]
    }
   ],
   "source": [
    "## Task 10:\n",
    "max_defects = np.max(year_defects)\n",
    "print(max_defects)"
   ]
  },
  {
   "cell_type": "markdown",
   "id": "64b6a84a",
   "metadata": {},
   "source": [
    "11. Wow, it would probably be super busy if there were that many defects on a single day. Hopefully, it is a rare event!\n",
    "\n",
    "    Calculate and print the probability of observing that maximum value or more from the Poisson(7) distribution."
   ]
  },
  {
   "cell_type": "code",
   "execution_count": 643,
   "id": "a63b1329",
   "metadata": {},
   "outputs": [
    {
     "name": "stdout",
     "output_type": "stream",
     "text": [
      "0.005717202492495965\n"
     ]
    }
   ],
   "source": [
    "## Task 11:\n",
    "#find probability of having 14 or more defects from the poisson (7) distribution\n",
    "prob_max = 1 - stats.poisson.cdf(max_defects, lam)\n",
    "print(prob_max)"
   ]
  },
  {
   "cell_type": "markdown",
   "id": "b45f0bab",
   "metadata": {},
   "source": [
    "## Extra"
   ]
  },
  {
   "cell_type": "markdown",
   "id": "5060f0ec",
   "metadata": {},
   "source": [
    "12. Congratulations! At this point, you have now explored the Poisson distribution and even worked with some simulated data. We have a couple of extra tasks if you would like an extra challenge. Feel free to try them out or move onto the next topic!\n",
    "\n",
    "    Let's say we want to know how many defects in a given day would put us in the 90th percentile of the Poisson(7) distribution. One way we could calculate this is by using the following method:\n",
    "    \n",
    "    ```py\n",
    "    stats.poisson.ppf(percentile, lambda)\n",
    "    ```\n",
    "    \n",
    "    `percentile` is equal to the desired percentile (a decimal between 0 and 1), and `lambda` is the lambda parameter of the Poisson distribution. This function is essentially the inverse of the CDF.\n",
    "    \n",
    "    Use this method to calculate and print the number of defects that would put us in the 90th percentile for a given day. In other words, on 90% of days, we will observe fewer defects than this number."
   ]
  },
  {
   "cell_type": "code",
   "execution_count": 655,
   "id": "e6156c3e",
   "metadata": {},
   "outputs": [
    {
     "name": "stdout",
     "output_type": "stream",
     "text": [
      "10.0\n"
     ]
    }
   ],
   "source": [
    "## Task 12:\n",
    "prob_90 = stats.poisson.ppf(0.9, lam)\n",
    "print(prob_90)"
   ]
  },
  {
   "cell_type": "markdown",
   "id": "0d86d9d0",
   "metadata": {},
   "source": [
    "13. Now let's see what proportion of our simulated dataset `year_defects` is greater than or equal to the number we calculated in the previous step.\n",
    "\n",
    "    By definition of a percentile, we would expect 1 - .90, or about 10% of days to be in this range.\n",
    "    \n",
    "    To calculate this:\n",
    "    \n",
    "     1) Count the number of values in the dataset that are greater than or equal to the 90th percentile value.\n",
    "     \n",
    "     2) Divide this number by the length of the dataset."
   ]
  },
  {
   "cell_type": "code",
   "execution_count": 642,
   "id": "c80c6e6a",
   "metadata": {},
   "outputs": [],
   "source": [
    "## Task 13:\n"
   ]
  },
  {
   "cell_type": "code",
   "execution_count": null,
   "id": "9961924d",
   "metadata": {},
   "outputs": [],
   "source": []
  }
 ],
 "metadata": {
  "kernelspec": {
   "display_name": "myenv",
   "language": "python",
   "name": "python3"
  },
  "language_info": {
   "codemirror_mode": {
    "name": "ipython",
    "version": 3
   },
   "file_extension": ".py",
   "mimetype": "text/x-python",
   "name": "python",
   "nbconvert_exporter": "python",
   "pygments_lexer": "ipython3",
   "version": "3.9.13"
  },
  "vscode": {
   "interpreter": {
    "hash": "d7c9105a371359a4fd65a62535fee03399d7172e55d19822df8895bd74e94846"
   }
  }
 },
 "nbformat": 4,
 "nbformat_minor": 5
}
